{
  "nbformat": 4,
  "nbformat_minor": 0,
  "metadata": {
    "colab": {
      "provenance": [],
      "toc_visible": true
    },
    "kernelspec": {
      "name": "python3",
      "display_name": "Python 3"
    },
    "language_info": {
      "name": "python"
    }
  },
  "cells": [
    {
      "cell_type": "code",
      "source": [
        "import numpy as np\n",
        "import matplotlib.pyplot as plt\n",
        "\n",
        "def sigmoid(z):\n",
        "    return 1 / (1 + np.exp(-z))\n",
        "\n",
        "def predict(X, weights, bias):\n",
        "    z = np.dot(X, weights) + bias\n",
        "    A = sigmoid(z)\n",
        "    return A\n",
        "\n",
        "def train(X, Y, weights, bias, learning_rate, num_epochs):\n",
        "    m = X.shape[0]\n",
        "    error_list = []\n",
        "    \n",
        "    for epoch in range(num_epochs):\n",
        "        A = predict(X, weights, bias)\n",
        "        error = Y - A\n",
        "        d_weights = (1/m) * np.dot(X.T, error)\n",
        "        d_bias = (1/m) * np.sum(error)\n",
        "        weights = weights + learning_rate * d_weights.mean(axis=1).reshape(weights.shape)\n",
        "        bias = bias + learning_rate * d_bias\n",
        "        error_list.append(np.mean(error ** 2))\n",
        "    \n",
        "    return weights, bias, error_list"
      ],
      "metadata": {
        "id": "QzT30-UAsKX1"
      },
      "execution_count": null,
      "outputs": []
    },
    {
      "cell_type": "code",
      "source": [
        "# AND gate\n",
        "X = np.array([[0,0],[0,1],[1,0],[1,1]])\n",
        "Y = np.array([[0],[0],[0],[1]])\n",
        "weights = np.array([0, 0])\n",
        "bias = -0.7\n",
        "learning_rate = 0.1\n",
        "num_epochs = 1000"
      ],
      "metadata": {
        "id": "R-Jz2bVdsP1j"
      },
      "execution_count": null,
      "outputs": []
    },
    {
      "cell_type": "code",
      "source": [
        "weights, bias, error_list = train(X, Y, weights, bias, learning_rate, num_epochs)"
      ],
      "metadata": {
        "id": "uy6zdW-Us0fW"
      },
      "execution_count": null,
      "outputs": []
    },
    {
      "cell_type": "code",
      "source": [
        "A = predict(X, weights, bias)\n",
        "A = np.round(A)\n",
        "print(\"AND gate predictions:\")\n",
        "print(A)"
      ],
      "metadata": {
        "colab": {
          "base_uri": "https://localhost:8080/"
        },
        "id": "5tqAk-OisTzl",
        "outputId": "e60614d2-eff6-4505-d917-42b34ef061c2"
      },
      "execution_count": null,
      "outputs": [
        {
          "output_type": "stream",
          "name": "stdout",
          "text": [
            "AND gate predictions:\n",
            "[0. 0. 0. 1.]\n"
          ]
        }
      ]
    },
    {
      "cell_type": "code",
      "source": [
        "plt.plot(range(num_epochs), error_list)\n",
        "plt.xlabel('Epoch')\n",
        "plt.ylabel('Error')\n",
        "plt.title('Error vs Epoch')\n",
        "plt.show()"
      ],
      "metadata": {
        "colab": {
          "base_uri": "https://localhost:8080/",
          "height": 295
        },
        "id": "pRazAVzOsXn8",
        "outputId": "f263bd1b-b1e9-4e44-8b7b-301f0f671173"
      },
      "execution_count": null,
      "outputs": [
        {
          "output_type": "display_data",
          "data": {
            "text/plain": [
              "<Figure size 432x288 with 1 Axes>"
            ],
            "image/png": "[encoded data removed]"
          },
          "metadata": {
            "needs_background": "light"
          }
        }
      ]
    },
    {
      "cell_type": "markdown",
      "source": [
        "# OR Gate"
      ],
      "metadata": {
        "id": "TVCC_ASGt_eF"
      }
    },
    {
      "cell_type": "code",
      "source": [
        "# OR gate\n",
        "X = np.array([[0,0],[0,1],[1,0],[1,1]])\n",
        "Y = np.array([[0],[1],[1],[1]])\n",
        "weights = np.array([0.5, 0.5])\n",
        "bias = -0.2\n",
        "learning_rate = 0.1\n",
        "num_epochs = 1000"
      ],
      "metadata": {
        "id": "XCCzmk00uDXQ"
      },
      "execution_count": null,
      "outputs": []
    },
    {
      "cell_type": "code",
      "source": [
        "weights, bias, error_list = train(X, Y, weights, bias, learning_rate, num_epochs)"
      ],
      "metadata": {
        "id": "YTvO72uBuKWR"
      },
      "execution_count": null,
      "outputs": []
    },
    {
      "cell_type": "code",
      "source": [
        "A = predict(X, weights, bias)\n",
        "A = np.round(A)\n",
        "print(\"OR gate predictions:\")\n",
        "print(A)"
      ],
      "metadata": {
        "colab": {
          "base_uri": "https://localhost:8080/"
        },
        "id": "_QqKYZIouPz6",
        "outputId": "b6676499-31f4-4531-b8a4-d082002a5c2c"
      },
      "execution_count": null,
      "outputs": [
        {
          "output_type": "stream",
          "name": "stdout",
          "text": [
            "OR gate predictions:\n",
            "[0. 1. 1. 1.]\n"
          ]
        }
      ]
    },
    {
      "cell_type": "code",
      "source": [
        "plt.plot(range(num_epochs), error_list)\n",
        "plt.xlabel('Epoch')\n",
        "plt.ylabel('Error')\n",
        "plt.title('Error vs Epoch')\n",
        "plt.show()"
      ],
      "metadata": {
        "colab": {
          "base_uri": "https://localhost:8080/",
          "height": 295
        },
        "id": "bjIqTpOMuWsn",
        "outputId": "c2614b97-7fc3-4e9c-ed70-626e36daaad7"
      },
      "execution_count": null,
      "outputs": [
        {
          "output_type": "display_data",
          "data": {
            "text/plain": [
              "<Figure size 432x288 with 1 Axes>"
            ],
            "image/png": "[encoded data removed]"
          },
          "metadata": {
            "needs_background": "light"
          }
        }
      ]
    },
    {
      "cell_type": "markdown",
      "source": [
        "# XOR GATE"
      ],
      "metadata": {
        "id": "5dbRCUv3umSy"
      }
    },
    {
      "cell_type": "code",
      "source": [
        "# XOR gate\n",
        "X = np.array([[0,0],[0,1],[1,0],[1,1]])\n",
        "Y = np.array([[0],[1],[1],[0]])\n",
        "weights = np.array([1, 1])\n",
        "bias = -1\n",
        "learning_rate = 0.1\n",
        "num_epochs = 5000"
      ],
      "metadata": {
        "id": "9w91nhjDuqM8"
      },
      "execution_count": null,
      "outputs": []
    },
    {
      "cell_type": "code",
      "source": [
        "weights, bias, error_list = train(X, Y, weights, bias, learning_rate, num_epochs)"
      ],
      "metadata": {
        "id": "Xm0CveuPvKja"
      },
      "execution_count": null,
      "outputs": []
    },
    {
      "cell_type": "code",
      "source": [
        "A = predict(X, weights, bias)\n",
        "A = np.round(A)\n",
        "print(\"XOR gate predictions:\")\n",
        "print(A)"
      ],
      "metadata": {
        "colab": {
          "base_uri": "https://localhost:8080/"
        },
        "id": "CSw86j7zu3aF",
        "outputId": "fa5ddb18-521b-4049-811f-ab8a04ccf1ca"
      },
      "execution_count": null,
      "outputs": [
        {
          "output_type": "stream",
          "name": "stdout",
          "text": [
            "XOR gate predictions:\n",
            "[0. 0. 0. 1.]\n"
          ]
        }
      ]
    },
    {
      "cell_type": "code",
      "source": [
        "plt.plot(range(num_epochs), error_list)\n",
        "plt.xlabel('Epoch')\n",
        "plt.ylabel('Error')\n",
        "plt.title('Error vs Epoch')\n",
        "plt.show()"
      ],
      "metadata": {
        "colab": {
          "base_uri": "https://localhost:8080/",
          "height": 295
        },
        "id": "V7A_t7O-u9Dw",
        "outputId": "cc44ac9c-225f-4dfe-b562-a14799329d93"
      },
      "execution_count": null,
      "outputs": [
        {
          "output_type": "display_data",
          "data": {
            "text/plain": [
              "<Figure size 432x288 with 1 Axes>"
            ],
            "image/png": "[encoded data removed]"
          },
          "metadata": {
            "needs_background": "light"
          }
        }
      ]
    }
  ]
}